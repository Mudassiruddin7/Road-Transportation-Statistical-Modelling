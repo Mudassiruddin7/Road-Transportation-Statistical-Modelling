{
 "cells": [
  {
   "cell_type": "code",
   "execution_count": null,
   "metadata": {
    "id": "iyyoMMrJHTtm"
   },
   "outputs": [],
   "source": [
    "import pandas as pd\n",
    "import seaborn as sns\n",
    "import matplotlib.pyplot as plt\n",
    "import numpy as np\n",
    "pd.set_option('display.max_columns', None)\n",
    "from sklearn.preprocessing import LabelEncoder\n",
    "from sklearn.model_selection import train_test_split\n",
    "from sklearn.ensemble import RandomForestClassifier\n",
    "from sklearn.metrics import accuracy_score\n",
    "from sklearn.metrics import classification_report, confusion_matrix"
   ]
  },
  {
   "cell_type": "code",
   "execution_count": null,
   "metadata": {},
   "outputs": [],
   "source": [
    "! pip install --upgrade scikit-learn==0.20.3"
   ]
  },
  {
   "cell_type": "code",
   "execution_count": null,
   "metadata": {
    "colab": {
     "base_uri": "https://localhost:8080/",
     "height": 478
    },
    "id": "iHd8f9W5HTtp",
    "outputId": "2998f4ef-a75a-4409-bf2c-4a4550a0987d"
   },
   "outputs": [],
   "source": [
    "new_df = pd.read_csv('cleaned.csv')\n",
    "new_df.head()"
   ]
  },
  {
   "cell_type": "code",
   "execution_count": null,
   "metadata": {
    "colab": {
     "base_uri": "https://localhost:8080/",
     "height": 613
    },
    "id": "1QNv_lxYHTtq",
    "outputId": "ee8da802-29e6-4dbe-bab3-a0ca280a5e44"
   },
   "outputs": [],
   "source": [
    "## Environmental Analysis\n",
    "# Pie Chart Explaining the Distribution of Severity of the Data in the Dataframe\n",
    "plt.figure(figsize = (12,10))\n",
    "severity_pie = new_df.groupby('Severity').count()['ID'] ### group by severity in order to do circle map\n",
    "mylabels = [\"1\", \"2\", \"3\", \"4\"]\n",
    "plt.title(\"Severity of Cases\",fontsize=20)\n",
    "plt.pie(severity_pie, labels = mylabels,autopct='%1.1f%%',textprops={'fontsize': 15},radius=1.2,explode=(1,0,0,0))\n",
    "plt.legend(mylabels, loc=\"best\")"
   ]
  },
  {
   "cell_type": "code",
   "execution_count": null,
   "metadata": {
    "id": "YMdJlUPiXUMg"
   },
   "outputs": [],
   "source": [
    "city_acc = new_df.groupby('City')['ID'].count().reset_index()\n",
    "city_acc = city_acc.sort_values(by='ID', ascending=False)"
   ]
  },
  {
   "cell_type": "code",
   "execution_count": null,
   "metadata": {},
   "outputs": [],
   "source": [
    "city_acc"
   ]
  },
  {
   "cell_type": "code",
   "execution_count": null,
   "metadata": {
    "colab": {
     "base_uri": "https://localhost:8080/",
     "height": 629
    },
    "id": "jAJ_CDoDXUVU",
    "outputId": "4af2e7c9-0cf3-46b5-86ec-17eee7438ee1"
   },
   "outputs": [],
   "source": [
    "## Which City and State has got most numebr of accidents.\n",
    "plt.figure(figsize = (20,10))\n",
    "plt.title(\"Accidents in Cities\",fontsize=20)\n",
    "plt.barh(city_acc['City'].iloc[:25], city_acc['ID'].iloc[:25], color = 'yellow')\n",
    "plt.legend(mylabels, loc=\"best\")"
   ]
  },
  {
   "cell_type": "code",
   "execution_count": null,
   "metadata": {
    "id": "Kfqs22ulXUc4"
   },
   "outputs": [],
   "source": [
    "state_acc = new_df.groupby('State')['ID'].count().reset_index()\n",
    "state_acc = state_acc.sort_values(by='ID', ascending=False)"
   ]
  },
  {
   "cell_type": "code",
   "execution_count": null,
   "metadata": {
    "colab": {
     "base_uri": "https://localhost:8080/",
     "height": 466
    },
    "id": "pXYnCNQcXUkz",
    "outputId": "d195e92f-db7e-4a5a-ae96-4640af15ef6f"
   },
   "outputs": [],
   "source": [
    "## Which City and State has got most number of accidents.\n",
    "plt.figure(figsize = (12,7))\n",
    "plt.title(\"Accidents in States\",fontsize=20)\n",
    "plt.bar(state_acc['State'].iloc[:25], state_acc['ID'].iloc[:25], color = 'yellow')\n",
    "plt.legend(mylabels, loc=\"best\")"
   ]
  },
  {
   "cell_type": "code",
   "execution_count": null,
   "metadata": {
    "colab": {
     "base_uri": "https://localhost:8080/"
    },
    "id": "-j6o6IYiHTtr",
    "outputId": "13b61b54-35f9-4c0c-8348-aecbf4c8a04b"
   },
   "outputs": [],
   "source": [
    "type(new_df['Start_Time'])"
   ]
  },
  {
   "cell_type": "code",
   "execution_count": null,
   "metadata": {
    "id": "Jao3pTKTHTtr"
   },
   "outputs": [],
   "source": [
    "new_df['Start_Time'] = pd.to_datetime(new_df['Start_Time'])"
   ]
  },
  {
   "cell_type": "code",
   "execution_count": null,
   "metadata": {
    "colab": {
     "base_uri": "https://localhost:8080/"
    },
    "id": "_ccP-BcKHTtr",
    "outputId": "e345cbf0-ba90-4f17-db73-3c14dc567170"
   },
   "outputs": [],
   "source": [
    "new_df['Start_Time']"
   ]
  },
  {
   "cell_type": "code",
   "execution_count": null,
   "metadata": {
    "id": "MKFq33vEHTts"
   },
   "outputs": [],
   "source": [
    "new_df['hour'] = new_df['Start_Time'].dt.hour"
   ]
  },
  {
   "cell_type": "code",
   "execution_count": null,
   "metadata": {
    "colab": {
     "base_uri": "https://localhost:8080/"
    },
    "id": "qI1Tb-T-HTts",
    "outputId": "dd223b04-cee9-42bd-bc79-b81ac3d3d362"
   },
   "outputs": [],
   "source": [
    "new_df['hour']"
   ]
  },
  {
   "cell_type": "code",
   "execution_count": null,
   "metadata": {
    "id": "h4HQo4klHTtt"
   },
   "outputs": [],
   "source": [
    "accident_timing = new_df.groupby('hour')['ID'].count().reset_index()"
   ]
  },
  {
   "cell_type": "code",
   "execution_count": null,
   "metadata": {
    "colab": {
     "base_uri": "https://localhost:8080/",
     "height": 676
    },
    "id": "epqmSR8jHTtt",
    "outputId": "de7fb2cc-80e7-4776-c3e2-e1332e8191a5"
   },
   "outputs": [],
   "source": [
    "plt.figure(figsize = (12,10))\n",
    "plt.bar(accident_timing['hour'], accident_timing['ID'], label = 'Count', width = 0.5,color = 'yellow')\n",
    "sns.lineplot(accident_timing['hour'], accident_timing['ID'], color = 'black', marker = '.', ms = 11)\n",
    "plt.ylabel('Casualties')\n",
    "plt.xlabel('Timing')\n",
    "plt.xticks(np.arange(24))\n",
    "plt.title('Summary on Accidents W.R.T Timing.')\n",
    "for i in range(len(accident_timing['hour'])):\n",
    "    plt.text(i, accident_timing['ID'][i]*1.01,accident_timing['ID'][i], ha = 'center', va = 'center', fontstyle = 'normal', color = 'red', fontsize = 'x-large')\n",
    "plt.show()"
   ]
  },
  {
   "cell_type": "code",
   "execution_count": null,
   "metadata": {
    "colab": {
     "base_uri": "https://localhost:8080/",
     "height": 509
    },
    "id": "gbc40BtJHTtu",
    "outputId": "40c1b09e-2f4d-4c28-a7dd-4a5d7f74b8d5"
   },
   "outputs": [],
   "source": [
    "plt.figure(figsize = (12,10))\n",
    "sns.displot(new_df, x=\"Temperature(F)\", hue=\"Severity\", palette=\"Set1\", height=5, aspect=2,bins=20,kde=True)\n",
    "plt.title('\\n Reported Temperature with Different Severity \\n', size=20)\n",
    "plt.ylabel('\\n Count \\n', fontsize=15)\n",
    "plt.xlabel('\\n Temperature(F) \\n', fontsize=15)"
   ]
  },
  {
   "cell_type": "code",
   "execution_count": null,
   "metadata": {
    "id": "OBenDHa9HTtu"
   },
   "outputs": [],
   "source": [
    "new_df['month'] = pd.to_datetime(new_df['Start_Time']).dt.month"
   ]
  },
  {
   "cell_type": "code",
   "execution_count": null,
   "metadata": {
    "colab": {
     "base_uri": "https://localhost:8080/",
     "height": 426
    },
    "id": "W91vz6gzHTtu",
    "outputId": "c2686f9f-dff3-4ddd-eded-b05326fa8101"
   },
   "outputs": [],
   "source": [
    "month_pattern = new_df.groupby('month')['ID'].count().reset_index()\n",
    "month_pattern"
   ]
  },
  {
   "cell_type": "code",
   "execution_count": null,
   "metadata": {
    "id": "5T0Uplk2HTtv"
   },
   "outputs": [],
   "source": [
    "month_pattern_df = month_pattern"
   ]
  },
  {
   "cell_type": "code",
   "execution_count": null,
   "metadata": {
    "colab": {
     "base_uri": "https://localhost:8080/",
     "height": 405
    },
    "id": "_AntNt-MHTtv",
    "outputId": "27ba7688-377f-4b5f-8473-e9dbb49bba91"
   },
   "outputs": [],
   "source": [
    "plt.figure(figsize = (15,5))\n",
    "plt.bar(month_pattern_df['month'], month_pattern_df['ID'], color = 'yellow', width = 0.35)\n",
    "sns.lineplot(month_pattern_df['month'], month_pattern_df['ID'], color= 'blue', label = 'Sum', marker = '.', ms = 9)\n",
    "xticks = np.arange(13)\n",
    "x_labels = ['0','January', 'February', 'March', 'April', 'May', 'June', 'July', 'August', 'September', 'October', 'November', 'December']\n",
    "plt.xticks(ticks = xticks, labels = x_labels)\n",
    "plt.title('Relationship Between Month and Accident Rates.')\n",
    "for i in range(len(month_pattern_df)):\n",
    "    plt.text(i+1,month_pattern_df['ID'].iloc[i]*1.02,month_pattern_df['ID'].iloc[i], fontstyle = 'normal',color = 'black',ha = 'center' ,verticalalignment='center', fontsize = 'large')\n",
    "plt.show()"
   ]
  },
  {
   "cell_type": "code",
   "execution_count": null,
   "metadata": {
    "colab": {
     "base_uri": "https://localhost:8080/",
     "height": 713
    },
    "id": "wAXgqArLHTtw",
    "outputId": "690cff44-b41d-40e2-a1e1-0d35532806bc"
   },
   "outputs": [],
   "source": [
    "visibility = pd.DataFrame(new_df[\"Visibility(mi)\"].value_counts()).reset_index().rename(columns={\"index\":\"Visibility\",\"Visibility(mi)\":\"Cases\"})\n",
    "### recreate a panda data frame\n",
    "plt.figure(figsize=(12,10))\n",
    "plt.title('\\n Cases Reported for Visibility \\n', size=20)\n",
    "plt.ylabel('\\n Visibility(mi) \\n', fontsize=15)\n",
    "plt.xlabel('\\n Number of Accidents\\n', fontsize=15)\n",
    "plt.xticks(fontsize=13)\n",
    "plt.yticks(fontsize=12)\n",
    "plt.xlim(1000,60000)\n",
    "a = sns.scatterplot(x=visibility.Cases,y=visibility.Visibility[visibility.Visibility<30],color='red')\n",
    "plt.show()"
   ]
  },
  {
   "cell_type": "code",
   "execution_count": null,
   "metadata": {
    "colab": {
     "base_uri": "https://localhost:8080/",
     "height": 605
    },
    "id": "dtwM0OmdHTtw",
    "outputId": "b23ff352-2fac-425e-900e-86104a760105"
   },
   "outputs": [],
   "source": [
    "precipitation = pd.DataFrame(new_df[\"Precipitation(in)\"].value_counts()).reset_index().rename(columns={\"index\":\"Precipitation\",\"Precipitation(in)\":\"Cases\"})\n",
    "plt.figure(figsize=(10,8))\n",
    "plt.title('\\n Cases Reported for Precipitation(in) \\n', size=20)\n",
    "plt.ylabel('\\n Precipitation(in)) \\n', fontsize=15)\n",
    "plt.xlabel('\\n Number of Accidents\\n', fontsize=15)\n",
    "plt.xticks(fontsize=13)\n",
    "plt.yticks(fontsize=12)\n",
    "plt.xlim(0,500)\n",
    "a = sns.scatterplot(x=precipitation.Cases,y=precipitation.Precipitation[precipitation.Precipitation<5], color = 'red')\n",
    "plt.show()"
   ]
  },
  {
   "cell_type": "code",
   "execution_count": null,
   "metadata": {
    "id": "7f1MQ1qWHTtw"
   },
   "outputs": [],
   "source": [
    "year_month = new_df[\"Start_Time\"].groupby(new_df.Start_Time.dt.to_period(\"M\")).agg('count').reset_index(name='Num_Accidents')"
   ]
  },
  {
   "cell_type": "code",
   "execution_count": null,
   "metadata": {
    "colab": {
     "base_uri": "https://localhost:8080/",
     "height": 540
    },
    "id": "N6vNUNr9HTtx",
    "outputId": "fd875dbd-30c4-47bb-cbb6-76e8c14d7558"
   },
   "outputs": [],
   "source": [
    "palette = sns.color_palette(\"tab10\", 6)\n",
    "plt.figure(figsize = (10,8))\n",
    "plt.xlabel(\"Month\",fontsize=15)\n",
    "plt.ylabel(\"Number of Accidents\",fontsize=15)\n",
    "plt.title('Number of Accidents of 2016-2021 by Months',size=20)\n",
    "sns.lineplot(data=year_month, x=year_month.Start_Time.dt.month, y=year_month.Num_Accidents, hue=year_month.Start_Time.dt.year,\n",
    "             style=year_month.Start_Time.dt.year, palette=palette)"
   ]
  },
  {
   "cell_type": "code",
   "execution_count": null,
   "metadata": {
    "colab": {
     "base_uri": "https://localhost:8080/",
     "height": 540
    },
    "id": "0niO68WgHTtx",
    "outputId": "1691e5c8-f837-4607-9001-b1db4643d91a"
   },
   "outputs": [],
   "source": [
    "plt.figure(figsize = (10,8))\n",
    "plt.xlabel(\"Month\",fontsize=15)\n",
    "plt.ylabel(\"Temperature level\",fontsize=15)\n",
    "plt.title('Temperature Variation of 2016-2021 by Months',size=20)\n",
    "sns.lineplot(data=new_df, x=new_df.Start_Time.dt.month, y=new_df[\"Temperature(F)\"], hue=new_df.Start_Time.dt.year,\n",
    "             style=new_df.Start_Time.dt.year, color = 'red')"
   ]
  },
  {
   "cell_type": "code",
   "execution_count": null,
   "metadata": {
    "colab": {
     "base_uri": "https://localhost:8080/",
     "height": 606
    },
    "id": "c_6baodGHTtx",
    "outputId": "02ef12ea-c03c-48c9-8b92-a5b341aa7bb7"
   },
   "outputs": [],
   "source": [
    "plt.figure(figsize=(12,10))\n",
    "sns.scatterplot(x=\"Start_Lng\", y=\"Start_Lat\", hue=\"State\", data=new_df, s=10, legend=False)\n",
    "plt.xlabel(\"Longtiude\")\n",
    "plt.ylabel(\"Latitude\")\n",
    "plt.show()"
   ]
  },
  {
   "cell_type": "code",
   "execution_count": null,
   "metadata": {
    "colab": {
     "base_uri": "https://localhost:8080/",
     "height": 866
    },
    "id": "bzOR3ZIYHTtx",
    "outputId": "be905170-f041-4ae5-9269-5d2ec2a9a586"
   },
   "outputs": [],
   "source": [
    "## Location Analysis\n",
    "\n",
    "import folium\n",
    "from folium.plugins import HeatMap\n",
    "sample_df= new_df.sample(int(0.001*len(new_df)))\n",
    "lat_lng_pairs= list(zip(list(sample_df.Start_Lat),list(sample_df.Start_Lng)))\n",
    "map= folium.Map([38.552397, -96],zoom_start=6, min_zoom = 5, max_zoom = 13)\n",
    "HeatMap(lat_lng_pairs).add_to(map)\n",
    "map"
   ]
  },
  {
   "cell_type": "markdown",
   "metadata": {
    "id": "7Z62cQh4HTty"
   },
   "source": [
    "1. Increase help and resting station for drivers all year round. This is due to most car accidents happened at a normal temperature 50-80F.\n",
    "2. Provide benefits for people staying at indoors when the weather has a low visbility. This is due to low visbility results in more car accidents than any other environmental factors.\n",
    "3. Give incentives for people who stay off cars during the COVID-19 period. This is due to the work-from-home mode and yearly environmental factors do not contribute to more car accidents."
   ]
  },
  {
   "cell_type": "code",
   "execution_count": null,
   "metadata": {
    "id": "3IpCREeuHTtz"
   },
   "outputs": [],
   "source": [
    "list1 =[ 'Sunrise_Sunset', 'Civil_Twilight', 'Nautical_Twilight',\n",
    "       'Astronomical_Twilight']"
   ]
  },
  {
   "cell_type": "code",
   "execution_count": null,
   "metadata": {
    "colab": {
     "base_uri": "https://localhost:8080/",
     "height": 1000
    },
    "id": "lwmSVPYYHTtz",
    "outputId": "b7c2e3ba-e5ca-47e4-a31c-bb8a679c870e"
   },
   "outputs": [],
   "source": [
    "for i in list1:\n",
    "  plt.bar(new_df[i].value_counts().keys(), new_df[i].value_counts(), color = 'yellow', width = 0.35)\n",
    "  plt.title(i)\n",
    "  plt.show()"
   ]
  },
  {
   "cell_type": "code",
   "execution_count": null,
   "metadata": {
    "colab": {
     "base_uri": "https://localhost:8080/",
     "height": 421
    },
    "id": "ezbQbGDaHTtz",
    "outputId": "f769f9ad-0a2d-44fa-c323-aa215471ebe3"
   },
   "outputs": [],
   "source": [
    "## Clustering Example using Strip plot\n",
    "### sns.regplot(x=df_2['Severity'],y=df_2['Temperature(F)'])\n",
    "fig, ax = plt.subplots(figsize = (10,5))\n",
    "plt.title('\\n Relationship between Temperature and Severity \\n', size=20)\n",
    "plt.ylabel('\\n Temperature(F) \\n', fontsize=15)\n",
    "plt.xlabel('\\n Severity \\n', fontsize=15)\n",
    "sns.stripplot(x=new_df['Severity'],y=new_df['Temperature(F)'],data=new_df,jitter=0.2)"
   ]
  },
  {
   "cell_type": "code",
   "execution_count": null,
   "metadata": {
    "colab": {
     "base_uri": "https://localhost:8080/",
     "height": 362
    },
    "id": "0KiIeBK6HTtz",
    "outputId": "60cf4a3a-a155-43d3-f6bc-10172574041c"
   },
   "outputs": [],
   "source": [
    "## Predictive Analysis\n",
    "\n",
    "# Our starting and ending latitudes show a positive correlation. This is merely a test to see how our data functions.\n",
    "\n",
    "\n",
    "plt.style.use('seaborn')\n",
    "\n",
    "new_df.plot(x = 'Start_Lat', y='End_Lat',kind='scatter')\n",
    "plt.show()"
   ]
  },
  {
   "cell_type": "code",
   "execution_count": null,
   "metadata": {
    "colab": {
     "base_uri": "https://localhost:8080/"
    },
    "id": "8hXluFfRHTt0",
    "outputId": "5076b067-68f6-460c-8870-e1f3eb59439c"
   },
   "outputs": [],
   "source": [
    "new_df.info()"
   ]
  },
  {
   "cell_type": "code",
   "execution_count": null,
   "metadata": {
    "colab": {
     "base_uri": "https://localhost:8080/",
     "height": 478
    },
    "id": "VozU2tPLHTt0",
    "outputId": "0f8f6cd0-4f8e-4ba1-dae5-bc79cfb3228b"
   },
   "outputs": [],
   "source": [
    "new_df.head()"
   ]
  },
  {
   "cell_type": "code",
   "execution_count": null,
   "metadata": {
    "id": "Q19FyrGTHTt0"
   },
   "outputs": [],
   "source": [
    "# Dropping some more irrelevant columns.\n",
    "new_df.drop(['Description', 'Street', 'County', 'ID', 'Timezone', 'Airport_Code', 'Zipcode'], axis = 1, inplace = True)"
   ]
  },
  {
   "cell_type": "code",
   "execution_count": null,
   "metadata": {
    "id": "V4NCWBFVHTt0"
   },
   "outputs": [],
   "source": [
    "new_df['End_Time'] = pd.to_datetime(new_df['End_Time'])"
   ]
  },
  {
   "cell_type": "code",
   "execution_count": null,
   "metadata": {
    "id": "X4PUtrmJHTt0"
   },
   "outputs": [],
   "source": [
    "new_df['end_hour'] = new_df['End_Time'].dt.hour\n",
    "new_df['end_month'] = new_df['End_Time'].dt.month"
   ]
  },
  {
   "cell_type": "code",
   "execution_count": null,
   "metadata": {
    "id": "s53rKB7gHTt0"
   },
   "outputs": [],
   "source": [
    "new_df.drop(['Start_Time', 'End_Time'], axis = 1, inplace = True)"
   ]
  },
  {
   "cell_type": "code",
   "execution_count": null,
   "metadata": {
    "colab": {
     "base_uri": "https://localhost:8080/"
    },
    "id": "mDWhS5acHTt0",
    "outputId": "2873252a-8589-4e6a-9c1f-4b7b370db822"
   },
   "outputs": [],
   "source": [
    "# Convert Object type to Int.\n",
    "new_df.info()"
   ]
  },
  {
   "cell_type": "code",
   "execution_count": null,
   "metadata": {
    "colab": {
     "base_uri": "https://localhost:8080/",
     "height": 270
    },
    "id": "553PpmGOHTt1",
    "outputId": "dd0cfa66-5dd6-42fc-ef45-f1aeb2161f64"
   },
   "outputs": [],
   "source": [
    "cols = ['Side', 'City', 'State', 'Country', 'Wind_Direction', 'Weather_Condition']\n",
    "#\n",
    "# Encode labels of multiple columns at once\n",
    "#\n",
    "new_df[cols] = new_df[cols].apply(LabelEncoder().fit_transform)\n",
    "#\n",
    "# Print head\n",
    "#\n",
    "new_df.head()"
   ]
  },
  {
   "cell_type": "code",
   "execution_count": null,
   "metadata": {
    "colab": {
     "base_uri": "https://localhost:8080/",
     "height": 270
    },
    "id": "q78nk7j7HTt1",
    "outputId": "a19f98d9-fd7e-4405-f500-faa0575c8a3f"
   },
   "outputs": [],
   "source": [
    "cols = ['Sunrise_Sunset', 'Civil_Twilight', 'Nautical_Twilight','Astronomical_Twilight']\n",
    "new_df[cols] = new_df[cols].apply(LabelEncoder().fit_transform)\n",
    "#\n",
    "# Print head\n",
    "#\n",
    "new_df.head()"
   ]
  },
  {
   "cell_type": "code",
   "execution_count": null,
   "metadata": {
    "colab": {
     "base_uri": "https://localhost:8080/",
     "height": 270
    },
    "id": "lWYmYR33HTt2",
    "outputId": "ff4a2628-f708-4531-d4a6-ea01b8723007"
   },
   "outputs": [],
   "source": [
    "cols = ['Amenity', 'Bump', 'Crossing', 'Give_Way', 'Junction', 'No_Exit', 'Railway', 'Roundabout', 'Station', 'Stop', 'Traffic_Calming', 'Traffic_Signal', 'Turning_Loop']\n",
    "\n",
    "new_df[cols] = new_df[cols].apply(LabelEncoder().fit_transform)\n",
    "#\n",
    "# Print head\n",
    "#\n",
    "new_df.head()"
   ]
  },
  {
   "cell_type": "code",
   "execution_count": null,
   "metadata": {
    "id": "HCb5Fbl2HTt2"
   },
   "outputs": [],
   "source": [
    "# Sperating the taregt and independent features\n",
    "X = new_df.drop(['Severity'], axis = 1)\n",
    "y = new_df['Severity']"
   ]
  },
  {
   "cell_type": "code",
   "execution_count": null,
   "metadata": {
    "id": "eFk5Q0sEHTt2"
   },
   "outputs": [],
   "source": [
    "# Split the dataset into train and test sets\n",
    "\n",
    "X_train, X_test, y_train, y_test = train_test_split(X, y, test_size=0.3, random_state=42)"
   ]
  },
  {
   "cell_type": "code",
   "execution_count": null,
   "metadata": {
    "id": "0wH3xx10HTt2"
   },
   "outputs": [],
   "source": [
    "def print_score(clf, X_train, y_train, X_test, y_test, train=True):\n",
    "    if train:\n",
    "        pred = clf.predict(X_train)\n",
    "        clf_report = pd.DataFrame(classification_report(y_train, pred, output_dict=True))\n",
    "        print(\"Train Result:\\n================================================\")\n",
    "        print(f\"Accuracy Score: {accuracy_score(y_train, pred) * 100:.2f}%\")\n",
    "        print(\"_______________________________________________\")\n",
    "        print(f\"CLASSIFICATION REPORT:\\n{clf_report}\")\n",
    "        print(\"_______________________________________________\")\n",
    "        \n",
    "    elif train==False:\n",
    "        pred = clf.predict(X_test)\n",
    "        clf_report = pd.DataFrame(classification_report(y_test, pred, output_dict=True))\n",
    "        print(\"Test Result:\\n================================================\")        \n",
    "        print(f\"Accuracy Score: {accuracy_score(y_test, pred) * 100:.2f}%\")\n",
    "        print(\"_______________________________________________\")\n",
    "        print(f\"CLASSIFICATION REPORT:\\n{clf_report}\")\n",
    "        print(\"_______________________________________________\")\n"
   ]
  },
  {
   "cell_type": "code",
   "execution_count": null,
   "metadata": {
    "colab": {
     "base_uri": "https://localhost:8080/"
    },
    "id": "BNARmwxzHTt2",
    "outputId": "482c85d8-e8b9-4311-f9e6-c76e79e83528"
   },
   "outputs": [],
   "source": [
    "# Random Forest Classifier\n",
    "rf_clf = RandomForestClassifier(n_estimators=100, max_depth=5, random_state=42)\n",
    "rf_clf.fit(X_train, y_train)\n",
    "\n",
    "print_score(rf_clf, X_train, y_train, X_test, y_test, train=True)\n",
    "print_score(rf_clf, X_train, y_train, X_test, y_test, train=False)"
   ]
  },
  {
   "cell_type": "code",
   "execution_count": null,
   "metadata": {},
   "outputs": [],
   "source": [
    "X_train = X_train[:8000]\n",
    "y_train = y_train[:8000]\n",
    "X_test = X_test[:5000]\n",
    "y_test = y_test[:5000]\n"
   ]
  },
  {
   "cell_type": "code",
   "execution_count": null,
   "metadata": {},
   "outputs": [],
   "source": [
    "from sklearn.neighbors import KNeighborsClassifier\n",
    "\n",
    "\n",
    "neig = KNeighborsClassifier(n_neighbors=4)\n",
    "neig.fit(X_train, y_train)\n",
    "\n",
    "print_score(neig, X_train, y_train, X_test, y_test, train=True)\n",
    "print_score(neig, X_train, y_train, X_test, y_test, train=False)"
   ]
  },
  {
   "cell_type": "code",
   "execution_count": null,
   "metadata": {
    "id": "4yHpEDp8Wdn9"
   },
   "outputs": [],
   "source": [
    "var_df = pd.read_csv('/content/drive/MyDrive/Road_Transportation/cleaned.csv')"
   ]
  },
  {
   "cell_type": "code",
   "execution_count": null,
   "metadata": {
    "colab": {
     "base_uri": "https://localhost:8080/"
    },
    "id": "4ZzOVNlcmTdo",
    "outputId": "c2b29a71-fb43-4661-aac0-ebbb3673af1c"
   },
   "outputs": [],
   "source": [
    "var_df.info()"
   ]
  },
  {
   "cell_type": "code",
   "execution_count": null,
   "metadata": {
    "id": "ngzPWBidmTg6"
   },
   "outputs": [],
   "source": [
    "var_df['month'] = pd.to_datetime(var_df['Start_Time']).dt.month"
   ]
  },
  {
   "cell_type": "code",
   "execution_count": null,
   "metadata": {
    "id": "11so-e4VmTlB"
   },
   "outputs": [],
   "source": [
    "var_df['hour'] = pd.to_datetime(var_df['Start_Time']).dt.hour"
   ]
  },
  {
   "cell_type": "code",
   "execution_count": null,
   "metadata": {
    "id": "Wjl7wGJSpfhV"
   },
   "outputs": [],
   "source": [
    "var_df['end_hour'] = pd.to_datetime(var_df['End_Time']).dt.hour"
   ]
  },
  {
   "cell_type": "code",
   "execution_count": null,
   "metadata": {
    "id": "W0vN9hTLpl2L"
   },
   "outputs": [],
   "source": [
    "var_df['end_month'] = pd.to_datetime(var_df['End_Time']).dt.month"
   ]
  },
  {
   "cell_type": "code",
   "execution_count": null,
   "metadata": {
    "id": "vyG5IOdnqUvh"
   },
   "outputs": [],
   "source": [
    "var_df.drop(['ID', 'Start_Time', 'End_Time'], axis = 1, inplace = True)"
   ]
  },
  {
   "cell_type": "code",
   "execution_count": null,
   "metadata": {
    "colab": {
     "base_uri": "https://localhost:8080/"
    },
    "id": "c0eyDvEqqD49",
    "outputId": "289a6efc-8bb5-466b-9e19-01bd4ea0f3d9"
   },
   "outputs": [],
   "source": [
    "var_df.info()"
   ]
  },
  {
   "cell_type": "code",
   "execution_count": null,
   "metadata": {
    "id": "sgRXWQuuqFSt"
   },
   "outputs": [],
   "source": [
    "cols = ['Amenity', 'Bump', 'Crossing', 'Give_Way', 'Junction', 'No_Exit', 'Railway', 'Roundabout', \n",
    "        'Station', 'Stop', 'Traffic_Calming', 'Traffic_Signal', 'Turning_Loop', 'Sunrise_Sunset', 'Civil_Twilight', 'Nautical_Twilight', 'Astronomical_Twilight']\n",
    "\n",
    "var_df[cols] = var_df[cols].apply(LabelEncoder().fit_transform)\n"
   ]
  },
  {
   "cell_type": "code",
   "execution_count": null,
   "metadata": {
    "id": "oW2tWQsktUpx"
   },
   "outputs": [],
   "source": [
    "cols = ['Description','Street', 'County', 'Side', 'City', 'State', 'Zipcode', 'Country', 'Timezone', 'Airport_Code', 'Wind_Direction', 'Weather_Condition']\n",
    "\n",
    "\n",
    "var_df[cols] = var_df[cols].apply(LabelEncoder().fit_transform)\n"
   ]
  },
  {
   "cell_type": "code",
   "execution_count": null,
   "metadata": {
    "colab": {
     "base_uri": "https://localhost:8080/"
    },
    "id": "puIlNHc9q26x",
    "outputId": "123e6fbf-359e-4c6e-e7f9-f516bc5867d6"
   },
   "outputs": [],
   "source": [
    "var_df.info()"
   ]
  },
  {
   "cell_type": "code",
   "execution_count": null,
   "metadata": {},
   "outputs": [],
   "source": [
    "X = var_df.drop(['Severity'], axis = 1)\n",
    "y = var_df['Severity']"
   ]
  },
  {
   "cell_type": "code",
   "execution_count": null,
   "metadata": {
    "id": "bVVfPVtFrYy_"
   },
   "outputs": [],
   "source": [
    "import mlxtend\n",
    "import joblib\n",
    "from sklearn.tree import DecisionTreeClassifier as dt"
   ]
  },
  {
   "cell_type": "code",
   "execution_count": null,
   "metadata": {
    "id": "Ifd1jYdkrgdH"
   },
   "outputs": [],
   "source": [
    "from mlxtend.feature_selection import SequentialFeatureSelector as SFS"
   ]
  },
  {
   "cell_type": "code",
   "execution_count": null,
   "metadata": {
    "colab": {
     "base_uri": "https://localhost:8080/"
    },
    "id": "q9E8NYMFryu1",
    "outputId": "c9e8326c-1e0e-4681-b9f3-fcd556fc0db1"
   },
   "outputs": [],
   "source": [
    "sfal = SFS(dt(max_depth=5), k_features='best', forward=True, verbose = 2, floating=False, scoring='accuracy', cv=0)\n",
    "sfal = sfal.fit(X,y)"
   ]
  },
  {
   "cell_type": "code",
   "execution_count": null,
   "metadata": {
    "colab": {
     "base_uri": "https://localhost:8080/"
    },
    "id": "xeYfrBS5wM3n",
    "outputId": "49df6077-5384-4ec6-84dd-6ee13c58e76e"
   },
   "outputs": [],
   "source": [
    "sfal.subsets_"
   ]
  },
  {
   "cell_type": "code",
   "execution_count": null,
   "metadata": {
    "colab": {
     "base_uri": "https://localhost:8080/"
    },
    "id": "ceYKooeizxA1",
    "outputId": "ae989577-b60c-4ba6-a309-a9e9fa92f5eb"
   },
   "outputs": [],
   "source": [
    "sfal.get_metric_dict()"
   ]
  },
  {
   "cell_type": "code",
   "execution_count": null,
   "metadata": {
    "colab": {
     "base_uri": "https://localhost:8080/",
     "height": 445
    },
    "id": "2G0tkpvZzxF9",
    "outputId": "1ae3f32b-d224-4b89-e9e8-515c16df7a88"
   },
   "outputs": [],
   "source": [
    "from mlxtend.plotting import plot_sequential_feature_selection as plot_sfs\n",
    "fig1 = plot_sfs(sfal.get_metric_dict(confidence_interval = 0.95), kind = 'std_err')\n",
    "\n",
    "plt.title('Seqential Forward Selection')\n",
    "plt.grid()\n",
    "plt.show()"
   ]
  },
  {
   "cell_type": "code",
   "execution_count": null,
   "metadata": {
    "colab": {
     "base_uri": "https://localhost:8080/",
     "height": 1000
    },
    "id": "76A65BCc0ax1",
    "outputId": "b49f6afe-9b50-48ed-8158-d1235b210feb"
   },
   "outputs": [],
   "source": [
    "df = pd.DataFrame.from_dict(sfal.get_metric_dict()).T\n",
    "df[['feature_idx', 'avg_score']]"
   ]
  },
  {
   "cell_type": "markdown",
   "metadata": {},
   "source": [
    "The Reason we haven't executed the below code blocks are, the above feature selection process has taken lot of hours and i had left us to drain the ram and forced us to shutdown the system."
   ]
  },
  {
   "cell_type": "code",
   "execution_count": null,
   "metadata": {
    "id": "r0ybMAr93e7x"
   },
   "outputs": [],
   "source": [
    "# This will give us the best features selected by the sequential feature selector model.\n",
    "sfal.k_feature_names_"
   ]
  },
  {
   "cell_type": "code",
   "execution_count": null,
   "metadata": {},
   "outputs": [],
   "source": [
    "cols = ['Start_Lng', 'End_Lng', 'Distance(mi)', 'Side', 'City', 'Temperature(F)', 'Astronomical_Twilight']"
   ]
  },
  {
   "cell_type": "code",
   "execution_count": null,
   "metadata": {},
   "outputs": [],
   "source": [
    "test_var = new_df[cols]\n",
    "tar_var = new_df['Severity']"
   ]
  },
  {
   "cell_type": "code",
   "execution_count": null,
   "metadata": {},
   "outputs": [],
   "source": [
    "X_train, y_train, X_test, y_test = train_test_split(test_var, tar_var, test_size=0.3, random_state=42)"
   ]
  },
  {
   "cell_type": "code",
   "execution_count": null,
   "metadata": {},
   "outputs": [],
   "source": [
    "from sklearn.tree import DecisionTreeClassifier\n",
    "dt = DecisionTreeClassifier(max_depth =5, random_state = 42)\n",
    "dt.fit(X_train, y_train)"
   ]
  },
  {
   "cell_type": "code",
   "execution_count": null,
   "metadata": {},
   "outputs": [],
   "source": [
    "print_score(dt, X_train, y_train, X_test, y_test, train=True)\n",
    "print_score(dt, X_train, y_train, X_test, y_test, train=False)"
   ]
  }
 ],
 "metadata": {
  "accelerator": "GPU",
  "colab": {
   "collapsed_sections": [],
   "name": "main.ipynb",
   "provenance": []
  },
  "interpreter": {
   "hash": "80bc14a6df0c4942103d0618f3b06907407c921bdce606ff519c2e4f7269e47f"
  },
  "kernelspec": {
   "display_name": "Python 3 (ipykernel)",
   "language": "python",
   "name": "python3"
  },
  "language_info": {
   "codemirror_mode": {
    "name": "ipython",
    "version": 3
   },
   "file_extension": ".py",
   "mimetype": "text/x-python",
   "name": "python",
   "nbconvert_exporter": "python",
   "pygments_lexer": "ipython3",
   "version": "3.11.5"
  }
 },
 "nbformat": 4,
 "nbformat_minor": 1
}
